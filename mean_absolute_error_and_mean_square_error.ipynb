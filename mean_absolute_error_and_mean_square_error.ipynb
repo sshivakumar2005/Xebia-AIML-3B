{
  "nbformat": 4,
  "nbformat_minor": 0,
  "metadata": {
    "colab": {
      "provenance": []
    },
    "kernelspec": {
      "name": "python3",
      "display_name": "Python 3"
    },
    "language_info": {
      "name": "python"
    }
  },
  "cells": [
    {
      "cell_type": "code",
      "execution_count": null,
      "metadata": {
        "id": "HMFLf0yA96Gu",
        "colab": {
          "base_uri": "https://localhost:8080/"
        },
        "outputId": "a0d6fa93-d12c-4d84-accd-d72ec40a6b37"
      },
      "outputs": [
        {
          "output_type": "stream",
          "name": "stdout",
          "text": [
            "Absolute error: 40\n",
            "Mean Absolute Error: 10.0\n"
          ]
        }
      ],
      "source": [
        "x = [2,7,8,9]\n",
        "y = [13,15,19,17]\n",
        "\n",
        "w = 4\n",
        "b = 0\n",
        "sum = 0\n",
        "for i in range (4):\n",
        "    y1 = w*x[i] + b\n",
        "    error = y[i]-y1\n",
        "    sum = sum+error\n",
        "absolute = abs(sum)\n",
        "print(\"Absolute error:\",absolute)\n",
        "avg = absolute/len(x)\n",
        "print(\"Mean Absolute Error:\",avg)"
      ]
    },
    {
      "cell_type": "code",
      "source": [
        "x = [2,7,8,9]\n",
        "y = [13,15,19,17]\n",
        "\n",
        "w = 4\n",
        "b = 0\n",
        "sum = 0\n",
        "for i in range (4):\n",
        "    y1 = w*x[i] + b\n",
        "    error = (y[i]-y1)**2\n",
        "    sum = sum+error\n",
        "print(\"Mean:\",sum)\n",
        "mean = sum/len(x)\n",
        "print(\"Mean Square Error\",mean)"
      ],
      "metadata": {
        "colab": {
          "base_uri": "https://localhost:8080/"
        },
        "id": "FEn5WHoYsbik",
        "outputId": "c24b4db5-3c6d-4268-f364-dea788bfe2a7"
      },
      "execution_count": null,
      "outputs": [
        {
          "output_type": "stream",
          "name": "stdout",
          "text": [
            "Mean: 724\n",
            "Mean Square Error 181.0\n"
          ]
        }
      ]
    },
    {
      "cell_type": "code",
      "source": [
        "x = [2,7,8,9]\n",
        "y = [13,15,19,17]\n",
        "w = 4\n",
        "b = 0\n",
        "\n",
        "def calculate_error(y_true, y_pred):\n",
        "    return (y_true - y_pred) ** 2\n",
        "\n",
        "def predict(x, w, b):\n",
        "    return w * x + b\n",
        "\n",
        "def calculate_mean_squared_error(x, y, w, b):\n",
        "    total_error = 0\n",
        "    for i in range(len(x)):\n",
        "        y_pred = predict(x[i], w, b)\n",
        "        error = calculate_error(y[i], y_pred)\n",
        "        total_error += error\n",
        "    mse = total_error / len(x)\n",
        "    return mse"
      ],
      "metadata": {
        "id": "0WgOqAuCsbfK"
      },
      "execution_count": null,
      "outputs": []
    },
    {
      "cell_type": "code",
      "source": [
        "def predict(x, w, b):\n",
        "    return w * x + b\n",
        "\n",
        "def calculate_error(y, y1):\n",
        "    return (y - y1) ** 2\n",
        "\n",
        "def calculate_mean_squared_error(x, y, w, b):\n",
        "    sum = 0\n",
        "    for i in range(len(x)):\n",
        "        y1 = predict(x[i], w, b)\n",
        "        error = calculate_error(y[i], y1)\n",
        "        sum += error\n",
        "    mse = sum / len(x)\n",
        "    return mse\n",
        "x = [2, 7, 8, 9]\n",
        "y = [13, 15, 19, 17]\n",
        "w = 4\n",
        "b = 0\n",
        "mse = calculate_mean_squared_error(x, y, w, b)\n",
        "print(\"Mean Square Error:\", mse)"
      ],
      "metadata": {
        "colab": {
          "base_uri": "https://localhost:8080/"
        },
        "id": "CbtFtB_Osbcf",
        "outputId": "b2b4039c-e00a-402a-a5f7-a99cda1197a1"
      },
      "execution_count": null,
      "outputs": [
        {
          "output_type": "stream",
          "name": "stdout",
          "text": [
            "Mean Square Error: 181.0\n"
          ]
        }
      ]
    },
    {
      "cell_type": "code",
      "source": [
        "def calculate_errors_and_sum(x, y, w, b):\n",
        "    total_error = 0\n",
        "    for i in range(len(x)):\n",
        "        y1 = w * x[i] + b\n",
        "        error = y[i] - y1\n",
        "        total_error += error\n",
        "    return abs(total_error)\n",
        "\n",
        "def mean_absolute_error(x, y, w, b):\n",
        "    total_error = calculate_errors_and_sum(x, y, w, b)\n",
        "    return total_error / len(x)\n",
        "\n",
        "# Test the code\n",
        "x = [2, 7, 8, 9]\n",
        "y = [13, 15, 19, 17]\n",
        "w = 4\n",
        "b = 0\n",
        "\n",
        "abs_error = calculate_errors_and_sum(x, y, w, b)\n",
        "mae = mean_absolute_error(x, y, w, b)\n",
        "print(\"Absolute error:\", abs_error)\n",
        "print(\"Mean Absolute Error:\", mae)"
      ],
      "metadata": {
        "colab": {
          "base_uri": "https://localhost:8080/"
        },
        "id": "7GXyiDdTsbZh",
        "outputId": "151cccdd-ac7d-458e-ab49-0dcd18322386"
      },
      "execution_count": null,
      "outputs": [
        {
          "output_type": "stream",
          "name": "stdout",
          "text": [
            "Absolute error: 40\n",
            "Mean Absolute Error: 10.0\n"
          ]
        }
      ]
    }
  ]
}